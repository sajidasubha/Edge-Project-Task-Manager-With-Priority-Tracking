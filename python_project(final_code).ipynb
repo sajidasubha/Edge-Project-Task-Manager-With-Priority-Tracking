{
  "nbformat": 4,
  "nbformat_minor": 0,
  "metadata": {
    "colab": {
      "provenance": []
    },
    "kernelspec": {
      "name": "python3",
      "display_name": "Python 3"
    },
    "language_info": {
      "name": "python"
    }
  },
  "cells": [
    {
      "cell_type": "code",
      "execution_count": 3,
      "metadata": {
        "id": "6DyFM8gEXUk5"
      },
      "outputs": [],
      "source": [
        "import csv\n",
        "from datetime import datetime, timedelta"
      ]
    },
    {
      "cell_type": "code",
      "source": [
        "import csv\n",
        "from datetime import datetime, timedelta\n",
        "\n",
        "# File to store tasks\n",
        "TASKS_FILE = \"tasks.csv\"\n",
        "\n",
        "# Task Status Constants\n",
        "STATUS_OPTIONS = [\"Pending\", \"In Progress\", \"Completed\"]\n",
        "\n",
        "# Priority Levels\n",
        "PRIORITY_OPTIONS = [\"High\", \"Medium\", \"Low\"]"
      ],
      "metadata": {
        "id": "VYdSk4_3kse-"
      },
      "execution_count": 5,
      "outputs": []
    },
    {
      "cell_type": "code",
      "source": [
        "# Add a Task\n",
        "def add_task():\n",
        "    print(\"\\n--- Add Task ---\")\n",
        "    title = input(\"Enter Task Title: \").strip()\n",
        "    description = input(\"Enter Task Description: \").strip()\n",
        "\n",
        "    # Priority input validation\n",
        "    while True:\n",
        "        priority = input(f\"Enter Priority ({', '.join(PRIORITY_OPTIONS)}): \")\n",
        "        if priority in PRIORITY_OPTIONS:\n",
        "            break\n",
        "        print(\"Invalid priority! Try again.\")\n",
        "\n",
        "    deadline = input(\"Enter Deadline (YYYY-MM-DD) or leave blank: \").strip()\n",
        "    try:\n",
        "        deadline = datetime.strptime(deadline, \"%Y-%m-%d\").strftime(\"%Y-%m-%d\") if deadline else \"\"\n",
        "    except ValueError:\n",
        "        print(\"Invalid date format. Deadline left blank.\")\n",
        "        deadline = \"\"\n",
        "\n",
        "    with open(TASKS_FILE, mode='a', newline='') as file:\n",
        "        writer = csv.writer(file)\n",
        "        writer.writerow([title, description, priority, deadline, \"Pending\"])\n",
        "    print(\"Task added successfully!\")"
      ],
      "metadata": {
        "id": "_01m4oSik1XB"
      },
      "execution_count": 6,
      "outputs": []
    },
    {
      "cell_type": "code",
      "source": [
        "# View Tasks\n",
        "def view_tasks():\n",
        "    print(\"\\n--- View Tasks ---\")\n",
        "    try:\n",
        "        with open(TASKS_FILE, mode='r') as file:\n",
        "            reader = csv.reader(file)\n",
        "            tasks = list(reader)\n",
        "            if len(tasks) <= 1:\n",
        "                print(\"No tasks found.\")\n",
        "                return\n",
        "\n",
        "            print(f\"{'Title':<20} {'Priority':<10} {'Deadline':<12} {'Status':<12}\")\n",
        "            print(\"-\" * 60)\n",
        "            for row in tasks[1:]:\n",
        "                print(f\"{row[0]:<20} {row[2]:<10} {row[3]:<12} {row[4]:<12}\")\n",
        "    except FileNotFoundError:\n",
        "        print(\"No tasks found. Add tasks to create the file.\")"
      ],
      "metadata": {
        "id": "9za6kvv6k5dP"
      },
      "execution_count": 14,
      "outputs": []
    },
    {
      "cell_type": "code",
      "source": [
        "def list_tasks(sort_by=None, filter_by=None):\n",
        "    tasks = view_tasks()\n",
        "    if sort_by:\n",
        "        if sort_by in [\"priority\", \"deadline\", \"status\"]:\n",
        "            tasks.sort(key=lambda x: x.get(sort_by) or \"\")\n",
        "    if filter_by:\n",
        "        tasks = [task for task in tasks if task[\"status\"] == filter_by]\n",
        "    return tasks"
      ],
      "metadata": {
        "id": "lfmoLlh_Ls2O"
      },
      "execution_count": 15,
      "outputs": []
    },
    {
      "cell_type": "code",
      "source": [
        "# Update Task Status\n",
        "def update_status():\n",
        "    print(\"\\n--- Update Task Status ---\")\n",
        "    view_tasks()\n",
        "    task_title = input(\"Enter the title of the task to update: \").strip()\n",
        "\n",
        "    # Read and update tasks\n",
        "    updated = False\n",
        "    tasks = []\n",
        "    with open(TASKS_FILE, mode='r') as file:\n",
        "        reader = csv.reader(file)\n",
        "        tasks = list(reader)\n",
        "        for row in tasks[1:]:\n",
        "            if row[0].lower() == task_title.lower():\n",
        "                print(f\"Current Status: {row[4]}\")\n",
        "                while True:\n",
        "                    status = input(f\"Enter new status ({', '.join(STATUS_OPTIONS)}): \").strip().capitalize()\n",
        "                    if status in STATUS_OPTIONS:\n",
        "                        row[4] = status\n",
        "                        updated = True\n",
        "                        break\n",
        "                    print(\"Invalid status! Try again.\")\n",
        "\n",
        "    if updated:\n",
        "        with open(TASKS_FILE, mode='w', newline='') as file:\n",
        "            writer = csv.writer(file)\n",
        "            writer.writerows(tasks)\n",
        "        print(\"Task status updated successfully!\")\n",
        "    else:\n",
        "        print(\"Task not found.\")"
      ],
      "metadata": {
        "id": "cSTNHjR9k9cz"
      },
      "execution_count": 9,
      "outputs": []
    },
    {
      "cell_type": "code",
      "source": [
        "# Analytics and Reports\n",
        "def generate_report():\n",
        "    print(\"\\n--- Task Report ---\")\n",
        "    try:\n",
        "        with open(TASKS_FILE, mode='r') as file:\n",
        "            reader = csv.reader(file)\n",
        "            tasks = list(reader)\n",
        "            if len(tasks) <= 1:\n",
        "                print(\"No tasks found.\")\n",
        "                return\n",
        "\n",
        "            total_tasks = len(tasks) - 1\n",
        "            completed_tasks = sum(1 for row in tasks[1:] if row[4] == \"Completed\")\n",
        "            pending_tasks = sum(1 for row in tasks[1:] if row[4] == \"Pending\")\n",
        "            in_progress_tasks = total_tasks - completed_tasks - pending_tasks\n",
        "\n",
        "            print(f\"Total Tasks: {total_tasks}\")\n",
        "            print(f\"Completed Tasks: {completed_tasks}\")\n",
        "            print(f\"Pending Tasks: {pending_tasks}\")\n",
        "            print(f\"In Progress Tasks: {in_progress_tasks}\")\n",
        "    except FileNotFoundError:\n",
        "        print(\"No tasks found. Add tasks to create the file.\")"
      ],
      "metadata": {
        "id": "aijsUVeKlCfi"
      },
      "execution_count": 10,
      "outputs": []
    },
    {
      "cell_type": "code",
      "source": [
        "def main_menu():\n",
        "    print(\"\\n--- Task Manager ---\")\n",
        "    while True:\n",
        "        print(\"\\n1. Add Task\")\n",
        "        print(\"2. View Tasks\")\n",
        "        print(\"3. Update Task Status\")\n",
        "        print(\"4. List Tasks\")\n",
        "        print(\"5. Exit\")\n",
        "        print(\"6. Generate Report\")\n",
        "        choice = input(\"Enter your choice: \").strip()\n",
        "\n",
        "        if choice == \"1\":\n",
        "            print(\"Navigating to Add Task...\")\n",
        "            add_task()\n",
        "        elif choice == \"2\":\n",
        "            print(\"Navigating to View Tasks...\")\n",
        "            view_tasks()\n",
        "        elif choice == \"3\":\n",
        "            print(\"Navigating to Update Task Status...\")\n",
        "            update_status()\n",
        "        elif choice == \"4\":\n",
        "            print(\"Navigating to List Tasks...\")\n",
        "            list_tasks()\n",
        "        elif choice == \"5\":\n",
        "            print(\"Exiting Task Manager. Goodbye!\")\n",
        "\n",
        "        elif choice == \"6\":\n",
        "            print(\"Generating Task Report...\")\n",
        "            generate_report()\n",
        "            break\n",
        "        else:\n",
        "            print(\"Invalid choice! Please try again.\")\n",
        "if __name__ == \"__main__\":\n",
        "    main_menu()\n"
      ],
      "metadata": {
        "colab": {
          "base_uri": "https://localhost:8080/"
        },
        "id": "eBmmtVVhlJKn",
        "outputId": "1e848e9d-4bd0-42f4-b799-a9ad82066eeb"
      },
      "execution_count": null,
      "outputs": [
        {
          "output_type": "stream",
          "name": "stdout",
          "text": [
            "\n",
            "--- Task Manager ---\n",
            "\n",
            "1. Add Task\n",
            "2. View Tasks\n",
            "3. Update Task Status\n",
            "4. List Tasks\n",
            "5. Exit\n",
            "6. Generate Report\n",
            "Enter your choice: 4\n",
            "Navigating to List Tasks...\n",
            "\n",
            "--- View Tasks ---\n",
            "Title                Priority   Deadline     Status      \n",
            "------------------------------------------------------------\n",
            "ghgfsyutyu           Medium     2024-02-25   Pending     \n",
            "usghifiugiuf         High                    Pending     \n",
            "\n",
            "1. Add Task\n",
            "2. View Tasks\n",
            "3. Update Task Status\n",
            "4. List Tasks\n",
            "5. Exit\n",
            "6. Generate Report\n"
          ]
        }
      ]
    },
    {
      "cell_type": "code",
      "source": [],
      "metadata": {
        "id": "7DUeDX_IlLbp"
      },
      "execution_count": null,
      "outputs": []
    }
  ]
}